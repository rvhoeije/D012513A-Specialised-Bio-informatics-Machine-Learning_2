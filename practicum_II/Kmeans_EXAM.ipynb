{
  "cells": [
    {
      "cell_type": "markdown",
      "metadata": {
        "id": "view-in-github",
        "colab_type": "text"
      },
      "source": [
        "<a href=\"https://colab.research.google.com/github/rvhoeije/D012513A-Specialised-Bio-informatics-Machine-Learning_2/blob/main/practicum_II/Kmeans_EXAM.ipynb\" target=\"_parent\"><img src=\"https://colab.research.google.com/assets/colab-badge.svg\" alt=\"Open In Colab\"/></a>"
      ]
    },
    {
      "cell_type": "code",
      "execution_count": 1,
      "metadata": {
        "id": "NVQYqyoier_C"
      },
      "outputs": [],
      "source": [
        "%matplotlib inline\n",
        "import matplotlib.pyplot as plt\n",
        "import seaborn as sns\n",
        "import pandas as pd\n",
        "import numpy as np\n",
        "\n",
        "import warnings;\n",
        "warnings.filterwarnings('ignore');"
      ]
    },
    {
      "cell_type": "markdown",
      "metadata": {
        "id": "dqDWvhTVer_M"
      },
      "source": [
        "## K-means clustering of the MNIST dataset\n",
        "\n",
        "This project applies the k-means clustering algorithm to cluster written digits.\n",
        "\n",
        "The [MNIST](http://yann.lecun.com/exdb/mnist/) dataset is a large database of handwritten digits. We will analyse a subset of this database with digit images reduced to 8x8 grayscaled valued pixels.  \n",
        "\n",
        "It is a very well known dataset in the machine learing community and can be loaded directly from Scikit-learn:"
      ]
    },
    {
      "cell_type": "code",
      "execution_count": 2,
      "metadata": {
        "id": "kluoDVZeer_Q"
      },
      "outputs": [],
      "source": [
        "from sklearn.datasets import load_digits\n",
        "\n",
        "digits = load_digits()\n",
        "\n",
        "#print(digits.DESCR)"
      ]
    },
    {
      "cell_type": "markdown",
      "metadata": {
        "id": "a5g720_Ker_T"
      },
      "source": [
        "In `digits`, `data` contains the pixel feature vectors and `target` contains the labels.\n",
        "\n",
        "We assign the feature vectors to `X` and the target to `y`: "
      ]
    },
    {
      "cell_type": "code",
      "execution_count": 6,
      "metadata": {
        "id": "VokGk-jver_W",
        "outputId": "04740526-b6ca-45d4-ead5-e4f510565140",
        "colab": {
          "base_uri": "https://localhost:8080/"
        }
      },
      "outputs": [
        {
          "output_type": "stream",
          "name": "stdout",
          "text": [
            "[0 1 2 ... 8 9 8]\n"
          ]
        }
      ],
      "source": [
        "X = digits.data\n",
        "y = digits.target"
      ]
    },
    {
      "cell_type": "markdown",
      "metadata": {
        "id": "hRrhqCL8er_Z"
      },
      "source": [
        "Print the number of rows and columns in `X` and `y`:"
      ]
    },
    {
      "cell_type": "code",
      "execution_count": 4,
      "metadata": {
        "id": "u6xe3d-Ker_b",
        "outputId": "f05f56ce-3317-4189-d8b9-0e8374338df7",
        "colab": {
          "base_uri": "https://localhost:8080/"
        }
      },
      "outputs": [
        {
          "output_type": "stream",
          "name": "stdout",
          "text": [
            "(1797, 64)\n",
            "(1797,)\n"
          ]
        }
      ],
      "source": [
        "#Start code here\n",
        "print(X.shape)    #logical 1797 numbers eacht with 8x8 pixel representation\n",
        "print(y.shape)\n",
        "#End code here"
      ]
    },
    {
      "cell_type": "markdown",
      "metadata": {
        "id": "h4Hegl4Qer_d"
      },
      "source": [
        "The following code shows a random datapoint:"
      ]
    },
    {
      "cell_type": "code",
      "execution_count": 7,
      "metadata": {
        "id": "05KIO8cEer_g",
        "outputId": "f2dabcff-983e-4ad0-84ca-df3ef9f5f31f",
        "colab": {
          "base_uri": "https://localhost:8080/",
          "height": 281
        }
      },
      "outputs": [
        {
          "output_type": "display_data",
          "data": {
            "text/plain": [
              "<Figure size 432x288 with 1 Axes>"
            ],
            "image/png": "[encoded data removed]"
          },
          "metadata": {
            "needs_background": "light"
          }
        }
      ],
      "source": [
        "import random\n",
        "\n",
        "plt.grid(b=None)\n",
        "idx = random.randint(0,X.shape[0]-1)\n",
        "plt.imshow(X[idx].reshape(8,8),cmap=plt.cm.gray_r)\n",
        "plt.title(\"label = %i\"%y[idx])\n",
        "plt.show()"
      ]
    },
    {
      "cell_type": "markdown",
      "metadata": {
        "id": "PWHsyjJ1er_l"
      },
      "source": [
        "The `KMeans` function in Scikit-learn has the following parameters:"
      ]
    },
    {
      "cell_type": "code",
      "execution_count": 8,
      "metadata": {
        "id": "5evdzOsder_o",
        "outputId": "5b967b40-2d2e-47e1-c354-aeb8a88ba5cd",
        "colab": {
          "base_uri": "https://localhost:8080/"
        }
      },
      "outputs": [
        {
          "output_type": "stream",
          "name": "stdout",
          "text": [
            "Help on class KMeans in module sklearn.cluster._kmeans:\n",
            "\n",
            "class KMeans(sklearn.base.TransformerMixin, sklearn.base.ClusterMixin, sklearn.base.BaseEstimator)\n",
            " |  KMeans(n_clusters=8, *, init='k-means++', n_init=10, max_iter=300, tol=0.0001, verbose=0, random_state=None, copy_x=True, algorithm='auto')\n",
            " |  \n",
            " |  K-Means clustering.\n",
            " |  \n",
            " |  Read more in the :ref:`User Guide <k_means>`.\n",
            " |  \n",
            " |  Parameters\n",
            " |  ----------\n",
            " |  \n",
            " |  n_clusters : int, default=8\n",
            " |      The number of clusters to form as well as the number of\n",
            " |      centroids to generate.\n",
            " |  \n",
            " |  init : {'k-means++', 'random'}, callable or array-like of shape             (n_clusters, n_features), default='k-means++'\n",
            " |      Method for initialization:\n",
            " |  \n",
            " |      'k-means++' : selects initial cluster centers for k-mean\n",
            " |      clustering in a smart way to speed up convergence. See section\n",
            " |      Notes in k_init for more details.\n",
            " |  \n",
            " |      'random': choose `n_clusters` observations (rows) at random from data\n",
            " |      for the initial centroids.\n",
            " |  \n",
            " |      If an array is passed, it should be of shape (n_clusters, n_features)\n",
            " |      and gives the initial centers.\n",
            " |  \n",
            " |      If a callable is passed, it should take arguments X, n_clusters and a\n",
            " |      random state and return an initialization.\n",
            " |  \n",
            " |  n_init : int, default=10\n",
            " |      Number of time the k-means algorithm will be run with different\n",
            " |      centroid seeds. The final results will be the best output of\n",
            " |      n_init consecutive runs in terms of inertia.\n",
            " |  \n",
            " |  max_iter : int, default=300\n",
            " |      Maximum number of iterations of the k-means algorithm for a\n",
            " |      single run.\n",
            " |  \n",
            " |  tol : float, default=1e-4\n",
            " |      Relative tolerance with regards to Frobenius norm of the difference\n",
            " |      in the cluster centers of two consecutive iterations to declare\n",
            " |      convergence.\n",
            " |  \n",
            " |  verbose : int, default=0\n",
            " |      Verbosity mode.\n",
            " |  \n",
            " |  random_state : int, RandomState instance or None, default=None\n",
            " |      Determines random number generation for centroid initialization. Use\n",
            " |      an int to make the randomness deterministic.\n",
            " |      See :term:`Glossary <random_state>`.\n",
            " |  \n",
            " |  copy_x : bool, default=True\n",
            " |      When pre-computing distances it is more numerically accurate to center\n",
            " |      the data first. If copy_x is True (default), then the original data is\n",
            " |      not modified. If False, the original data is modified, and put back\n",
            " |      before the function returns, but small numerical differences may be\n",
            " |      introduced by subtracting and then adding the data mean. Note that if\n",
            " |      the original data is not C-contiguous, a copy will be made even if\n",
            " |      copy_x is False. If the original data is sparse, but not in CSR format,\n",
            " |      a copy will be made even if copy_x is False.\n",
            " |  \n",
            " |  algorithm : {\"auto\", \"full\", \"elkan\"}, default=\"auto\"\n",
            " |      K-means algorithm to use. The classical EM-style algorithm is \"full\".\n",
            " |      The \"elkan\" variation is more efficient on data with well-defined\n",
            " |      clusters, by using the triangle inequality. However it's more memory\n",
            " |      intensive due to the allocation of an extra array of shape\n",
            " |      (n_samples, n_clusters).\n",
            " |  \n",
            " |      For now \"auto\" (kept for backward compatibility) chooses \"elkan\" but it\n",
            " |      might change in the future for a better heuristic.\n",
            " |  \n",
            " |      .. versionchanged:: 0.18\n",
            " |          Added Elkan algorithm\n",
            " |  \n",
            " |  Attributes\n",
            " |  ----------\n",
            " |  cluster_centers_ : ndarray of shape (n_clusters, n_features)\n",
            " |      Coordinates of cluster centers. If the algorithm stops before fully\n",
            " |      converging (see ``tol`` and ``max_iter``), these will not be\n",
            " |      consistent with ``labels_``.\n",
            " |  \n",
            " |  labels_ : ndarray of shape (n_samples,)\n",
            " |      Labels of each point\n",
            " |  \n",
            " |  inertia_ : float\n",
            " |      Sum of squared distances of samples to their closest cluster center,\n",
            " |      weighted by the sample weights if provided.\n",
            " |  \n",
            " |  n_iter_ : int\n",
            " |      Number of iterations run.\n",
            " |  \n",
            " |  n_features_in_ : int\n",
            " |      Number of features seen during :term:`fit`.\n",
            " |  \n",
            " |      .. versionadded:: 0.24\n",
            " |  \n",
            " |  feature_names_in_ : ndarray of shape (`n_features_in_`,)\n",
            " |      Names of features seen during :term:`fit`. Defined only when `X`\n",
            " |      has feature names that are all strings.\n",
            " |  \n",
            " |      .. versionadded:: 1.0\n",
            " |  \n",
            " |  See Also\n",
            " |  --------\n",
            " |  MiniBatchKMeans : Alternative online implementation that does incremental\n",
            " |      updates of the centers positions using mini-batches.\n",
            " |      For large scale learning (say n_samples > 10k) MiniBatchKMeans is\n",
            " |      probably much faster than the default batch implementation.\n",
            " |  \n",
            " |  Notes\n",
            " |  -----\n",
            " |  The k-means problem is solved using either Lloyd's or Elkan's algorithm.\n",
            " |  \n",
            " |  The average complexity is given by O(k n T), where n is the number of\n",
            " |  samples and T is the number of iteration.\n",
            " |  \n",
            " |  The worst case complexity is given by O(n^(k+2/p)) with\n",
            " |  n = n_samples, p = n_features. (D. Arthur and S. Vassilvitskii,\n",
            " |  'How slow is the k-means method?' SoCG2006)\n",
            " |  \n",
            " |  In practice, the k-means algorithm is very fast (one of the fastest\n",
            " |  clustering algorithms available), but it falls in local minima. That's why\n",
            " |  it can be useful to restart it several times.\n",
            " |  \n",
            " |  If the algorithm stops before fully converging (because of ``tol`` or\n",
            " |  ``max_iter``), ``labels_`` and ``cluster_centers_`` will not be consistent,\n",
            " |  i.e. the ``cluster_centers_`` will not be the means of the points in each\n",
            " |  cluster. Also, the estimator will reassign ``labels_`` after the last\n",
            " |  iteration to make ``labels_`` consistent with ``predict`` on the training\n",
            " |  set.\n",
            " |  \n",
            " |  Examples\n",
            " |  --------\n",
            " |  \n",
            " |  >>> from sklearn.cluster import KMeans\n",
            " |  >>> import numpy as np\n",
            " |  >>> X = np.array([[1, 2], [1, 4], [1, 0],\n",
            " |  ...               [10, 2], [10, 4], [10, 0]])\n",
            " |  >>> kmeans = KMeans(n_clusters=2, random_state=0).fit(X)\n",
            " |  >>> kmeans.labels_\n",
            " |  array([1, 1, 1, 0, 0, 0], dtype=int32)\n",
            " |  >>> kmeans.predict([[0, 0], [12, 3]])\n",
            " |  array([1, 0], dtype=int32)\n",
            " |  >>> kmeans.cluster_centers_\n",
            " |  array([[10.,  2.],\n",
            " |         [ 1.,  2.]])\n",
            " |  \n",
            " |  Method resolution order:\n",
            " |      KMeans\n",
            " |      sklearn.base.TransformerMixin\n",
            " |      sklearn.base.ClusterMixin\n",
            " |      sklearn.base.BaseEstimator\n",
            " |      builtins.object\n",
            " |  \n",
            " |  Methods defined here:\n",
            " |  \n",
            " |  __init__(self, n_clusters=8, *, init='k-means++', n_init=10, max_iter=300, tol=0.0001, verbose=0, random_state=None, copy_x=True, algorithm='auto')\n",
            " |      Initialize self.  See help(type(self)) for accurate signature.\n",
            " |  \n",
            " |  fit(self, X, y=None, sample_weight=None)\n",
            " |      Compute k-means clustering.\n",
            " |      \n",
            " |      Parameters\n",
            " |      ----------\n",
            " |      X : {array-like, sparse matrix} of shape (n_samples, n_features)\n",
            " |          Training instances to cluster. It must be noted that the data\n",
            " |          will be converted to C ordering, which will cause a memory\n",
            " |          copy if the given data is not C-contiguous.\n",
            " |          If a sparse matrix is passed, a copy will be made if it's not in\n",
            " |          CSR format.\n",
            " |      \n",
            " |      y : Ignored\n",
            " |          Not used, present here for API consistency by convention.\n",
            " |      \n",
            " |      sample_weight : array-like of shape (n_samples,), default=None\n",
            " |          The weights for each observation in X. If None, all observations\n",
            " |          are assigned equal weight.\n",
            " |      \n",
            " |          .. versionadded:: 0.20\n",
            " |      \n",
            " |      Returns\n",
            " |      -------\n",
            " |      self : object\n",
            " |          Fitted estimator.\n",
            " |  \n",
            " |  fit_predict(self, X, y=None, sample_weight=None)\n",
            " |      Compute cluster centers and predict cluster index for each sample.\n",
            " |      \n",
            " |      Convenience method; equivalent to calling fit(X) followed by\n",
            " |      predict(X).\n",
            " |      \n",
            " |      Parameters\n",
            " |      ----------\n",
            " |      X : {array-like, sparse matrix} of shape (n_samples, n_features)\n",
            " |          New data to transform.\n",
            " |      \n",
            " |      y : Ignored\n",
            " |          Not used, present here for API consistency by convention.\n",
            " |      \n",
            " |      sample_weight : array-like of shape (n_samples,), default=None\n",
            " |          The weights for each observation in X. If None, all observations\n",
            " |          are assigned equal weight.\n",
            " |      \n",
            " |      Returns\n",
            " |      -------\n",
            " |      labels : ndarray of shape (n_samples,)\n",
            " |          Index of the cluster each sample belongs to.\n",
            " |  \n",
            " |  fit_transform(self, X, y=None, sample_weight=None)\n",
            " |      Compute clustering and transform X to cluster-distance space.\n",
            " |      \n",
            " |      Equivalent to fit(X).transform(X), but more efficiently implemented.\n",
            " |      \n",
            " |      Parameters\n",
            " |      ----------\n",
            " |      X : {array-like, sparse matrix} of shape (n_samples, n_features)\n",
            " |          New data to transform.\n",
            " |      \n",
            " |      y : Ignored\n",
            " |          Not used, present here for API consistency by convention.\n",
            " |      \n",
            " |      sample_weight : array-like of shape (n_samples,), default=None\n",
            " |          The weights for each observation in X. If None, all observations\n",
            " |          are assigned equal weight.\n",
            " |      \n",
            " |      Returns\n",
            " |      -------\n",
            " |      X_new : ndarray of shape (n_samples, n_clusters)\n",
            " |          X transformed in the new space.\n",
            " |  \n",
            " |  predict(self, X, sample_weight=None)\n",
            " |      Predict the closest cluster each sample in X belongs to.\n",
            " |      \n",
            " |      In the vector quantization literature, `cluster_centers_` is called\n",
            " |      the code book and each value returned by `predict` is the index of\n",
            " |      the closest code in the code book.\n",
            " |      \n",
            " |      Parameters\n",
            " |      ----------\n",
            " |      X : {array-like, sparse matrix} of shape (n_samples, n_features)\n",
            " |          New data to predict.\n",
            " |      \n",
            " |      sample_weight : array-like of shape (n_samples,), default=None\n",
            " |          The weights for each observation in X. If None, all observations\n",
            " |          are assigned equal weight.\n",
            " |      \n",
            " |      Returns\n",
            " |      -------\n",
            " |      labels : ndarray of shape (n_samples,)\n",
            " |          Index of the cluster each sample belongs to.\n",
            " |  \n",
            " |  score(self, X, y=None, sample_weight=None)\n",
            " |      Opposite of the value of X on the K-means objective.\n",
            " |      \n",
            " |      Parameters\n",
            " |      ----------\n",
            " |      X : {array-like, sparse matrix} of shape (n_samples, n_features)\n",
            " |          New data.\n",
            " |      \n",
            " |      y : Ignored\n",
            " |          Not used, present here for API consistency by convention.\n",
            " |      \n",
            " |      sample_weight : array-like of shape (n_samples,), default=None\n",
            " |          The weights for each observation in X. If None, all observations\n",
            " |          are assigned equal weight.\n",
            " |      \n",
            " |      Returns\n",
            " |      -------\n",
            " |      score : float\n",
            " |          Opposite of the value of X on the K-means objective.\n",
            " |  \n",
            " |  transform(self, X)\n",
            " |      Transform X to a cluster-distance space.\n",
            " |      \n",
            " |      In the new space, each dimension is the distance to the cluster\n",
            " |      centers. Note that even if X is sparse, the array returned by\n",
            " |      `transform` will typically be dense.\n",
            " |      \n",
            " |      Parameters\n",
            " |      ----------\n",
            " |      X : {array-like, sparse matrix} of shape (n_samples, n_features)\n",
            " |          New data to transform.\n",
            " |      \n",
            " |      Returns\n",
            " |      -------\n",
            " |      X_new : ndarray of shape (n_samples, n_clusters)\n",
            " |          X transformed in the new space.\n",
            " |  \n",
            " |  ----------------------------------------------------------------------\n",
            " |  Data descriptors inherited from sklearn.base.TransformerMixin:\n",
            " |  \n",
            " |  __dict__\n",
            " |      dictionary for instance variables (if defined)\n",
            " |  \n",
            " |  __weakref__\n",
            " |      list of weak references to the object (if defined)\n",
            " |  \n",
            " |  ----------------------------------------------------------------------\n",
            " |  Methods inherited from sklearn.base.BaseEstimator:\n",
            " |  \n",
            " |  __getstate__(self)\n",
            " |  \n",
            " |  __repr__(self, N_CHAR_MAX=700)\n",
            " |      Return repr(self).\n",
            " |  \n",
            " |  __setstate__(self, state)\n",
            " |  \n",
            " |  get_params(self, deep=True)\n",
            " |      Get parameters for this estimator.\n",
            " |      \n",
            " |      Parameters\n",
            " |      ----------\n",
            " |      deep : bool, default=True\n",
            " |          If True, will return the parameters for this estimator and\n",
            " |          contained subobjects that are estimators.\n",
            " |      \n",
            " |      Returns\n",
            " |      -------\n",
            " |      params : dict\n",
            " |          Parameter names mapped to their values.\n",
            " |  \n",
            " |  set_params(self, **params)\n",
            " |      Set the parameters of this estimator.\n",
            " |      \n",
            " |      The method works on simple estimators as well as on nested objects\n",
            " |      (such as :class:`~sklearn.pipeline.Pipeline`). The latter have\n",
            " |      parameters of the form ``<component>__<parameter>`` so that it's\n",
            " |      possible to update each component of a nested object.\n",
            " |      \n",
            " |      Parameters\n",
            " |      ----------\n",
            " |      **params : dict\n",
            " |          Estimator parameters.\n",
            " |      \n",
            " |      Returns\n",
            " |      -------\n",
            " |      self : estimator instance\n",
            " |          Estimator instance.\n",
            "\n"
          ]
        }
      ],
      "source": [
        "from sklearn.cluster import KMeans\n",
        "\n",
        "help(KMeans)"
      ]
    },
    {
      "cell_type": "markdown",
      "metadata": {
        "id": "CU--mavXer_p"
      },
      "source": [
        "The most important are `n_clusters` (the number of cluster centroids (K) that K-means should find) and `init` (the algorithm used to initialize the cluster centers). These parameters are called hyperparameters as they require optimization by the user. This in contrast to modelparameters that are optimized by the learning algorithm.\n",
        "\n",
        "Also notice hyperparameter `n_init` that sets the number of time the K-means algorithm will be run starting from different centroid seeds, with the final best result selected based on the inertia metric.\n",
        "\n",
        "Cluster the data into 10 groups with just one random cluster center initialization. Set `random_state` equal to zero:"
      ]
    },
    {
      "cell_type": "code",
      "execution_count": 9,
      "metadata": {
        "id": "oHA_y_zuer_r",
        "outputId": "7ae2b861-7462-4615-ffe6-3816396bbe62",
        "colab": {
          "base_uri": "https://localhost:8080/"
        }
      },
      "outputs": [
        {
          "output_type": "stream",
          "name": "stdout",
          "text": [
            "[7 1 1 ... 1 8 8]\n"
          ]
        }
      ],
      "source": [
        "#Start code here\n",
        "\n",
        "#initialize K-means here\n",
        "cls_kmns = KMeans(n_clusters = 10, init = 'random', n_init = 1, random_state = 0 )\n",
        "\n",
        "#store clusters here\n",
        "kmeans_result = cls_kmns.fit_predict(X)\n",
        "\n",
        "#End code here\n",
        "\n",
        "print(kmeans_result)\n"
      ]
    },
    {
      "cell_type": "markdown",
      "metadata": {
        "id": "ObTAynE9er_t"
      },
      "source": [
        "On the help page of the Scikit-learn KMeans implementation there is a section \"Attirbutes\" that lists additional results computed during K-means clustering. For instance, `cluster_centers_` contains the 10 cluster centers computed by the K-means algorithm. \n",
        "\n",
        "What is the inertia for the obtained clusters?"
      ]
    },
    {
      "cell_type": "code",
      "execution_count": 11,
      "metadata": {
        "id": "FFIYuE-Aer_u",
        "outputId": "4833dcf2-c954-4d0a-fd94-8adab0af31eb",
        "colab": {
          "base_uri": "https://localhost:8080/"
        }
      },
      "outputs": [
        {
          "output_type": "execute_result",
          "data": {
            "text/plain": [
              "1165142.0046186221"
            ]
          },
          "metadata": {},
          "execution_count": 11
        }
      ],
      "source": [
        "#Start code here\n",
        "cls_kmns.cluster_centers_\n",
        "cls_kmns.inertia_\n",
        "#End code here"
      ]
    },
    {
      "cell_type": "markdown",
      "metadata": {
        "id": "0ppF7ZzJer_v"
      },
      "source": [
        "The following code plots the 10 cluster centers:"
      ]
    },
    {
      "cell_type": "code",
      "execution_count": 12,
      "metadata": {
        "id": "J4uRu9-Wer_w",
        "outputId": "857c4f60-4c91-4ee7-bc32-99a19b953cd1",
        "colab": {
          "base_uri": "https://localhost:8080/",
          "height": 197
        }
      },
      "outputs": [
        {
          "output_type": "display_data",
          "data": {
            "text/plain": [
              "<Figure size 576x216 with 10 Axes>"
            ],
            "image/png": "[encoded data removed]"
          },
          "metadata": {}
        }
      ],
      "source": [
        "fig, ax = plt.subplots(2, 5, figsize=(8, 3))\n",
        "for axi, center in zip(ax.flat, cls_kmns.cluster_centers_):\n",
        "    axi.set(xticks=[], yticks=[])\n",
        "    axi.imshow(center.reshape(8, 8), cmap=plt.cm.binary)"
      ]
    },
    {
      "cell_type": "markdown",
      "metadata": {
        "id": "gj3RgADher_x"
      },
      "source": [
        "Create a Pandas DataFrame `label_compare` with two columns: `label_cluster` that contains the labels assigned by the K-means clustering and `label_true` that contains the true (observed) label for each datapoint in `X`: "
      ]
    },
    {
      "cell_type": "code",
      "execution_count": 16,
      "metadata": {
        "id": "Hs8mazFJer_x",
        "outputId": "f463d589-b008-419d-b4f4-d48a3139393e",
        "colab": {
          "base_uri": "https://localhost:8080/"
        }
      },
      "outputs": [
        {
          "output_type": "stream",
          "name": "stdout",
          "text": [
            "      label_cluster  label_true\n",
            "0                 7           0\n",
            "1                 1           1\n",
            "2                 1           2\n",
            "3                 0           3\n",
            "4                 4           4\n",
            "...             ...         ...\n",
            "1792              8           9\n",
            "1793              7           0\n",
            "1794              1           8\n",
            "1795              8           9\n",
            "1796              8           8\n",
            "\n",
            "[1797 rows x 2 columns]\n"
          ]
        }
      ],
      "source": [
        "#Start code here\n",
        "\n",
        "label_compare = pd.DataFrame({'label_cluster': kmeans_result, 'label_true':y})\n",
        "\n",
        "#End code here\n",
        "\n",
        "print(label_compare)"
      ]
    },
    {
      "cell_type": "markdown",
      "metadata": {
        "id": "nhj5dylRer_y"
      },
      "source": [
        "Create a Pandas DataFrame `tmp` that contains all the rows in `label_compare` that were assigned to cluster center 0:"
      ]
    },
    {
      "cell_type": "code",
      "execution_count": 23,
      "metadata": {
        "id": "hNkOY0N6er_0",
        "outputId": "608c2001-110d-4ebf-a5f8-4c926fcbe5d7",
        "colab": {
          "base_uri": "https://localhost:8080/"
        }
      },
      "outputs": [
        {
          "output_type": "execute_result",
          "data": {
            "text/plain": [
              "pandas.core.frame.DataFrame"
            ]
          },
          "metadata": {},
          "execution_count": 23
        }
      ],
      "source": [
        "#Start code here\n",
        "\n",
        "tmp = pd.DataFrame(label_compare.loc[label_compare.label_cluster == 0])\n",
        "tmp\n",
        "\n",
        "#End code here"
      ]
    },
    {
      "cell_type": "markdown",
      "metadata": {
        "id": "eUllptsuer_1"
      },
      "source": [
        "Print the first 20 rows in `tmp`:"
      ]
    },
    {
      "cell_type": "code",
      "execution_count": 24,
      "metadata": {
        "id": "QKQMYkTxer_1",
        "outputId": "4437f10f-8450-4bd8-cb08-42b3895afccf",
        "colab": {
          "base_uri": "https://localhost:8080/"
        }
      },
      "outputs": [
        {
          "output_type": "stream",
          "name": "stdout",
          "text": [
            "     label_cluster  label_true\n",
            "3                0           3\n",
            "13               0           3\n",
            "23               0           3\n",
            "45               0           3\n",
            "59               0           3\n",
            "60               0           3\n",
            "62               0           3\n",
            "63               0           3\n",
            "83               0           3\n",
            "89               0           3\n",
            "91               0           3\n",
            "92               0           9\n",
            "98               0           3\n",
            "133              0           3\n",
            "143              0           3\n",
            "153              0           3\n",
            "161              0           9\n",
            "175              0           3\n",
            "189              0           3\n",
            "190              0           3\n"
          ]
        }
      ],
      "source": [
        "#Start code here\n",
        "\n",
        "print(tmp.head(20))\n",
        "\n",
        "#End code here"
      ]
    },
    {
      "cell_type": "markdown",
      "metadata": {
        "id": "sxNG45g5er_3"
      },
      "source": [
        "It should be clear that the labels assigned by K-means do not correspond to the true labels of the majority of the images in a cluster (i.e. the mode of the true labels in each cluster).\n",
        "\n",
        "A Pandas Series has the function `mode()` to compute the mode of the values in a Series. Print the mode of the column `label_true` in `tmp`: "
      ]
    },
    {
      "cell_type": "code",
      "execution_count": 26,
      "metadata": {
        "id": "WxvJbcbWer_3",
        "outputId": "36f8e6b2-b0ea-4242-d028-529fdd24e405",
        "colab": {
          "base_uri": "https://localhost:8080/"
        }
      },
      "outputs": [
        {
          "output_type": "execute_result",
          "data": {
            "text/plain": [
              "3"
            ]
          },
          "metadata": {},
          "execution_count": 26
        }
      ],
      "source": [
        "#Start code here\n",
        "tmp.label_true.mode()[0]\n",
        "#End code here"
      ]
    },
    {
      "cell_type": "markdown",
      "metadata": {
        "id": "ztiN0K9aer_4"
      },
      "source": [
        "Compute the mode for each cluster in `label_compare` and add these modes to the Python list `label_mapper`:"
      ]
    },
    {
      "cell_type": "code",
      "execution_count": 34,
      "metadata": {
        "id": "-Ik1iHeLer_4",
        "outputId": "bfefe3ba-0ac6-4fe6-de64-c37b772c016a",
        "colab": {
          "base_uri": "https://localhost:8080/"
        }
      },
      "outputs": [
        {
          "output_type": "stream",
          "name": "stdout",
          "text": [
            "Mode for cluster labeled 0 = 3 (true number)\n",
            "Mode for cluster labeled 1 = 8 (true number)\n",
            "Mode for cluster labeled 2 = 2 (true number)\n",
            "Mode for cluster labeled 3 = 6 (true number)\n",
            "Mode for cluster labeled 4 = 4 (true number)\n",
            "Mode for cluster labeled 5 = 7 (true number)\n",
            "Mode for cluster labeled 6 = 1 (true number)\n",
            "Mode for cluster labeled 7 = 0 (true number)\n",
            "Mode for cluster labeled 8 = 9 (true number)\n",
            "Mode for cluster labeled 9 = 5 (true number)\n"
          ]
        }
      ],
      "source": [
        "label_mapper = []\n",
        "for label_cluster in range(0,10):\n",
        "    #Start code here\n",
        "  frame = label_compare.loc[label_compare.label_cluster == label_cluster]\n",
        "  modulus = frame.label_true.mode()[0]\n",
        "  label_mapper.append(modulus)\n",
        "    #End code here\n",
        "    \n",
        "for label_cluster in range(0,10):\n",
        "    print(\"Mode for cluster labeled {} = {} (true number)\".format(label_cluster,label_mapper[label_cluster]))"
      ]
    },
    {
      "cell_type": "markdown",
      "metadata": {
        "id": "L9MasNL9er_5"
      },
      "source": [
        "Use the `map()` function to add a column `label_mode` to `label_compare` that contains the mode for each cluster label in `label_cluster`:"
      ]
    },
    {
      "cell_type": "code",
      "execution_count": 33,
      "metadata": {
        "id": "aIVfVvABer_5",
        "outputId": "1bbb676d-73d2-45a9-ca0a-73cdaf1bd52a",
        "colab": {
          "base_uri": "https://localhost:8080/",
          "height": 423
        }
      },
      "outputs": [
        {
          "output_type": "execute_result",
          "data": {
            "text/plain": [
              "      label_cluster  label_true  label_mode\n",
              "0                 7           0           0\n",
              "1                 1           1           8\n",
              "2                 1           2           8\n",
              "3                 0           3           3\n",
              "4                 4           4           4\n",
              "...             ...         ...         ...\n",
              "1792              8           9           9\n",
              "1793              7           0           0\n",
              "1794              1           8           8\n",
              "1795              8           9           9\n",
              "1796              8           8           9\n",
              "\n",
              "[1797 rows x 3 columns]"
            ],
            "text/html": [
              "\n",
              "  <div id=\"df-e2119ed5-c471-4487-89eb-d41c6b32295d\">\n",
              "    <div class=\"colab-df-container\">\n",
              "      <div>\n",
              "<style scoped>\n",
              "    .dataframe tbody tr th:only-of-type {\n",
              "        vertical-align: middle;\n",
              "    }\n",
              "\n",
              "    .dataframe tbody tr th {\n",
              "        vertical-align: top;\n",
              "    }\n",
              "\n",
              "    .dataframe thead th {\n",
              "        text-align: right;\n",
              "    }\n",
              "</style>\n",
              "<table border=\"1\" class=\"dataframe\">\n",
              "  <thead>\n",
              "    <tr style=\"text-align: right;\">\n",
              "      <th></th>\n",
              "      <th>label_cluster</th>\n",
              "      <th>label_true</th>\n",
              "      <th>label_mode</th>\n",
              "    </tr>\n",
              "  </thead>\n",
              "  <tbody>\n",
              "    <tr>\n",
              "      <th>0</th>\n",
              "      <td>7</td>\n",
              "      <td>0</td>\n",
              "      <td>0</td>\n",
              "    </tr>\n",
              "    <tr>\n",
              "      <th>1</th>\n",
              "      <td>1</td>\n",
              "      <td>1</td>\n",
              "      <td>8</td>\n",
              "    </tr>\n",
              "    <tr>\n",
              "      <th>2</th>\n",
              "      <td>1</td>\n",
              "      <td>2</td>\n",
              "      <td>8</td>\n",
              "    </tr>\n",
              "    <tr>\n",
              "      <th>3</th>\n",
              "      <td>0</td>\n",
              "      <td>3</td>\n",
              "      <td>3</td>\n",
              "    </tr>\n",
              "    <tr>\n",
              "      <th>4</th>\n",
              "      <td>4</td>\n",
              "      <td>4</td>\n",
              "      <td>4</td>\n",
              "    </tr>\n",
              "    <tr>\n",
              "      <th>...</th>\n",
              "      <td>...</td>\n",
              "      <td>...</td>\n",
              "      <td>...</td>\n",
              "    </tr>\n",
              "    <tr>\n",
              "      <th>1792</th>\n",
              "      <td>8</td>\n",
              "      <td>9</td>\n",
              "      <td>9</td>\n",
              "    </tr>\n",
              "    <tr>\n",
              "      <th>1793</th>\n",
              "      <td>7</td>\n",
              "      <td>0</td>\n",
              "      <td>0</td>\n",
              "    </tr>\n",
              "    <tr>\n",
              "      <th>1794</th>\n",
              "      <td>1</td>\n",
              "      <td>8</td>\n",
              "      <td>8</td>\n",
              "    </tr>\n",
              "    <tr>\n",
              "      <th>1795</th>\n",
              "      <td>8</td>\n",
              "      <td>9</td>\n",
              "      <td>9</td>\n",
              "    </tr>\n",
              "    <tr>\n",
              "      <th>1796</th>\n",
              "      <td>8</td>\n",
              "      <td>8</td>\n",
              "      <td>9</td>\n",
              "    </tr>\n",
              "  </tbody>\n",
              "</table>\n",
              "<p>1797 rows × 3 columns</p>\n",
              "</div>\n",
              "      <button class=\"colab-df-convert\" onclick=\"convertToInteractive('df-e2119ed5-c471-4487-89eb-d41c6b32295d')\"\n",
              "              title=\"Convert this dataframe to an interactive table.\"\n",
              "              style=\"display:none;\">\n",
              "        \n",
              "  <svg xmlns=\"http://www.w3.org/2000/svg\" height=\"24px\"viewBox=\"0 0 24 24\"\n",
              "       width=\"24px\">\n",
              "    <path d=\"M0 0h24v24H0V0z\" fill=\"none\"/>\n",
              "    <path d=\"M18.56 5.44l.94 2.06.94-2.06 2.06-.94-2.06-.94-.94-2.06-.94 2.06-2.06.94zm-11 1L8.5 8.5l.94-2.06 2.06-.94-2.06-.94L8.5 2.5l-.94 2.06-2.06.94zm10 10l.94 2.06.94-2.06 2.06-.94-2.06-.94-.94-2.06-.94 2.06-2.06.94z\"/><path d=\"M17.41 7.96l-1.37-1.37c-.4-.4-.92-.59-1.43-.59-.52 0-1.04.2-1.43.59L10.3 9.45l-7.72 7.72c-.78.78-.78 2.05 0 2.83L4 21.41c.39.39.9.59 1.41.59.51 0 1.02-.2 1.41-.59l7.78-7.78 2.81-2.81c.8-.78.8-2.07 0-2.86zM5.41 20L4 18.59l7.72-7.72 1.47 1.35L5.41 20z\"/>\n",
              "  </svg>\n",
              "      </button>\n",
              "      \n",
              "  <style>\n",
              "    .colab-df-container {\n",
              "      display:flex;\n",
              "      flex-wrap:wrap;\n",
              "      gap: 12px;\n",
              "    }\n",
              "\n",
              "    .colab-df-convert {\n",
              "      background-color: #E8F0FE;\n",
              "      border: none;\n",
              "      border-radius: 50%;\n",
              "      cursor: pointer;\n",
              "      display: none;\n",
              "      fill: #1967D2;\n",
              "      height: 32px;\n",
              "      padding: 0 0 0 0;\n",
              "      width: 32px;\n",
              "    }\n",
              "\n",
              "    .colab-df-convert:hover {\n",
              "      background-color: #E2EBFA;\n",
              "      box-shadow: 0px 1px 2px rgba(60, 64, 67, 0.3), 0px 1px 3px 1px rgba(60, 64, 67, 0.15);\n",
              "      fill: #174EA6;\n",
              "    }\n",
              "\n",
              "    [theme=dark] .colab-df-convert {\n",
              "      background-color: #3B4455;\n",
              "      fill: #D2E3FC;\n",
              "    }\n",
              "\n",
              "    [theme=dark] .colab-df-convert:hover {\n",
              "      background-color: #434B5C;\n",
              "      box-shadow: 0px 1px 3px 1px rgba(0, 0, 0, 0.15);\n",
              "      filter: drop-shadow(0px 1px 2px rgba(0, 0, 0, 0.3));\n",
              "      fill: #FFFFFF;\n",
              "    }\n",
              "  </style>\n",
              "\n",
              "      <script>\n",
              "        const buttonEl =\n",
              "          document.querySelector('#df-e2119ed5-c471-4487-89eb-d41c6b32295d button.colab-df-convert');\n",
              "        buttonEl.style.display =\n",
              "          google.colab.kernel.accessAllowed ? 'block' : 'none';\n",
              "\n",
              "        async function convertToInteractive(key) {\n",
              "          const element = document.querySelector('#df-e2119ed5-c471-4487-89eb-d41c6b32295d');\n",
              "          const dataTable =\n",
              "            await google.colab.kernel.invokeFunction('convertToInteractive',\n",
              "                                                     [key], {});\n",
              "          if (!dataTable) return;\n",
              "\n",
              "          const docLinkHtml = 'Like what you see? Visit the ' +\n",
              "            '<a target=\"_blank\" href=https://colab.research.google.com/notebooks/data_table.ipynb>data table notebook</a>'\n",
              "            + ' to learn more about interactive tables.';\n",
              "          element.innerHTML = '';\n",
              "          dataTable['output_type'] = 'display_data';\n",
              "          await google.colab.output.renderOutput(dataTable, element);\n",
              "          const docLink = document.createElement('div');\n",
              "          docLink.innerHTML = docLinkHtml;\n",
              "          element.appendChild(docLink);\n",
              "        }\n",
              "      </script>\n",
              "    </div>\n",
              "  </div>\n",
              "  "
            ]
          },
          "metadata": {},
          "execution_count": 33
        }
      ],
      "source": [
        "#Start code here\n",
        "label_compare['label_mode'] = label_compare.label_cluster.map(lambda i: label_mapper[i])\n",
        "#End code here\n",
        "label_compare"
      ]
    },
    {
      "cell_type": "markdown",
      "metadata": {
        "id": "IyEOTlD8er_6"
      },
      "source": [
        "Finally, we can compare the mode of the labels in each cluster with the true labels of the datapoints.\n",
        "\n",
        "Print the accuracy of the K-means label modes (that can be seen as the class predictions computed by K-means):"
      ]
    },
    {
      "cell_type": "code",
      "execution_count": 35,
      "metadata": {
        "id": "0aToRSG3er_6",
        "outputId": "7cb068ef-de47-4f3d-e085-df00de32f8ca",
        "colab": {
          "base_uri": "https://localhost:8080/"
        }
      },
      "outputs": [
        {
          "output_type": "execute_result",
          "data": {
            "text/plain": [
              "0.7924318308291597"
            ]
          },
          "metadata": {},
          "execution_count": 35
        }
      ],
      "source": [
        "from sklearn.metrics import accuracy_score\n",
        "\n",
        "#Start code here\n",
        "accuracy_score(label_compare.label_true, label_compare.label_mode) #true versus predicted\n",
        "#End code here"
      ]
    },
    {
      "cell_type": "markdown",
      "metadata": {
        "id": "dmW9XtHler_7"
      },
      "source": [
        "The following code computes and plots a confusion matrix for the K-means predictions:"
      ]
    },
    {
      "cell_type": "code",
      "execution_count": 36,
      "metadata": {
        "id": "h_NtKg9ker_8",
        "outputId": "9dea6837-88c9-4ef7-e34d-e1d1d0232a46",
        "colab": {
          "base_uri": "https://localhost:8080/",
          "height": 297
        }
      },
      "outputs": [
        {
          "output_type": "execute_result",
          "data": {
            "text/plain": [
              "Text(91.68, 0.5, 'predicted label')"
            ]
          },
          "metadata": {},
          "execution_count": 36
        },
        {
          "output_type": "display_data",
          "data": {
            "text/plain": [
              "<Figure size 432x288 with 1 Axes>"
            ],
            "image/png": "[encoded data removed]"
          },
          "metadata": {
            "needs_background": "light"
          }
        }
      ],
      "source": [
        "from sklearn.metrics import confusion_matrix\n",
        "\n",
        "mat = confusion_matrix(label_compare[\"label_true\"],label_compare[\"label_mode\"])\n",
        "sns.heatmap(mat.T, square=True, annot=True, fmt='d', cbar=False,\n",
        "            xticklabels=digits.target_names,\n",
        "            yticklabels=digits.target_names)\n",
        "plt.xlabel('true label')\n",
        "plt.ylabel('predicted label')"
      ]
    },
    {
      "cell_type": "markdown",
      "metadata": {
        "id": "YLQPcC9xer_-"
      },
      "source": [
        "For what digit do the K-means clusters make the most mistakes?\n",
        "\n",
        "Apply K-means clustering again, but first normalize the feature vectors using `StandardScaler()` (write the normalized feature vectors to `X_norm`). What is the accuracy of the K-means predictions now?"
      ]
    },
    {
      "cell_type": "code",
      "execution_count": 37,
      "metadata": {
        "id": "TVTBL1gqer__",
        "outputId": "94fbbcdd-036b-464a-b59e-b79ee371af49",
        "colab": {
          "base_uri": "https://localhost:8080/"
        }
      },
      "outputs": [
        {
          "output_type": "stream",
          "name": "stdout",
          "text": [
            "0.6994991652754591\n"
          ]
        }
      ],
      "source": [
        "from sklearn.preprocessing import StandardScaler\n",
        "\n",
        "#Start code here\n",
        "\n",
        "X_norm = StandardScaler().fit_transform(X)\n",
        "\n",
        "kmeans_result = cls_kmns.fit_predict(X_norm) #kmeans reeds geïnitialiseerd hierboven\n",
        "\n",
        "label_compare = pd.DataFrame({'label_cluster':kmeans_result, 'label_true':y})\n",
        "\n",
        "label_mapper = []\n",
        "for label_cluster in range(0,10):\n",
        "  df = label_compare.loc[label_compare.label_cluster == label_cluster]\n",
        "  modulus = df.label_true.mode()[0]\n",
        "  label_mapper.append(modulus)\n",
        "\n",
        "label_compare['label_mode'] = label_compare.label_cluster.map(lambda i: label_mapper[i])\n",
        "\n",
        "\n",
        "#End code here\n",
        "\n",
        "print(accuracy_score(label_compare[\"label_true\"],label_compare[\"label_mode\"]))\n"
      ]
    },
    {
      "cell_type": "markdown",
      "metadata": {
        "id": "RpJcbNchesAA"
      },
      "source": [
        "Use the TNSE module in Scikit-learn to project the 64 dimensional feature vectors in `X` to a 2-dimensional space. Set the `perplexity` hyperparemter to 30."
      ]
    },
    {
      "cell_type": "code",
      "execution_count": 52,
      "metadata": {
        "id": "pn2gAkTOesAB",
        "outputId": "236562d1-ad67-4306-cf3e-eec64fb6fffe",
        "colab": {
          "base_uri": "https://localhost:8080/"
        }
      },
      "outputs": [
        {
          "output_type": "stream",
          "name": "stdout",
          "text": [
            "[[ 13.148925  -61.022842 ]\n",
            " [  7.8105664  26.630905 ]\n",
            " [-19.241985   20.253147 ]\n",
            " ...\n",
            " [ -7.7785935  19.442493 ]\n",
            " [  6.1224265 -10.828657 ]\n",
            " [-11.05284     9.609533 ]]\n"
          ]
        },
        {
          "output_type": "execute_result",
          "data": {
            "text/plain": [
              "(1797, 2)"
            ]
          },
          "metadata": {},
          "execution_count": 52
        }
      ],
      "source": [
        "from sklearn.manifold import TSNE\n",
        "\n",
        "#Start code here\n",
        "\n",
        "prj_tsne = TSNE(n_components=2, perplexity=30)\n",
        "X_embedded = prj_tsne.fit_transform(X)\n",
        "\n",
        "#End code here\n",
        "\n",
        "print(X_embedded)\n",
        "X_embedded.shape"
      ]
    },
    {
      "cell_type": "markdown",
      "metadata": {
        "id": "4_dAAAzDesAC"
      },
      "source": [
        "Create a Pandas DataFrame `tsne_result` that contains the two columns in `X_embedded` with column names `t-SNE_1` and `t-SNE_2`:"
      ]
    },
    {
      "cell_type": "code",
      "execution_count": 46,
      "metadata": {
        "id": "yjBx0uxLesAD",
        "outputId": "2cd2cdd1-5321-4fba-9429-af20930dcb59",
        "colab": {
          "base_uri": "https://localhost:8080/"
        }
      },
      "outputs": [
        {
          "output_type": "stream",
          "name": "stdout",
          "text": [
            "        t-SNE_1    t-SNE_2\n",
            "0    -28.546923 -51.302544\n",
            "1     -0.551637  18.832207\n",
            "2     25.630083   8.650141\n",
            "3     25.610640 -26.432678\n",
            "4    -30.392275  36.065319\n",
            "...         ...        ...\n",
            "1792   8.001334 -30.499325\n",
            "1793 -33.954056 -42.504555\n",
            "1794  13.471783   7.909518\n",
            "1795   6.564641 -27.347311\n",
            "1796  17.869345  -1.475033\n",
            "\n",
            "[1797 rows x 2 columns]\n"
          ]
        }
      ],
      "source": [
        "#Start code here\n",
        "\n",
        "tsne_result = pd.DataFrame({'t-SNE_1':X_embedded[:,0], 't-SNE_2':X_embedded[:,1]})\n",
        "\n",
        "#End code here\n",
        "\n",
        "print(tsne_result)"
      ]
    },
    {
      "cell_type": "markdown",
      "metadata": {
        "id": "oUOZdyA4esAE"
      },
      "source": [
        "Add a column `label` to `tnse_result` that contains the true label `y`:"
      ]
    },
    {
      "cell_type": "code",
      "execution_count": 47,
      "metadata": {
        "id": "LpP7-hKaesAG",
        "outputId": "d3500bce-afdf-4739-a1c7-2f9453f9b2cd",
        "colab": {
          "base_uri": "https://localhost:8080/"
        }
      },
      "outputs": [
        {
          "output_type": "stream",
          "name": "stdout",
          "text": [
            "        t-SNE_1    t-SNE_2  label\n",
            "0    -28.546923 -51.302544      0\n",
            "1     -0.551637  18.832207      1\n",
            "2     25.630083   8.650141      2\n",
            "3     25.610640 -26.432678      3\n",
            "4    -30.392275  36.065319      4\n",
            "...         ...        ...    ...\n",
            "1792   8.001334 -30.499325      9\n",
            "1793 -33.954056 -42.504555      0\n",
            "1794  13.471783   7.909518      8\n",
            "1795   6.564641 -27.347311      9\n",
            "1796  17.869345  -1.475033      8\n",
            "\n",
            "[1797 rows x 3 columns]\n"
          ]
        }
      ],
      "source": [
        "#Start code here\n",
        "tsne_result['label'] = y\n",
        "#End code here\n",
        "\n",
        "print(tsne_result)"
      ]
    },
    {
      "cell_type": "markdown",
      "metadata": {
        "id": "G-rPdx6cesAG"
      },
      "source": [
        "To plot the t-SNE result we first convert the `label` column to a string (to understand why we do this, just run the notebook while skipping the following line of code):"
      ]
    },
    {
      "cell_type": "code",
      "execution_count": 48,
      "metadata": {
        "id": "hB4YKf93esAI"
      },
      "outputs": [],
      "source": [
        "tsne_result[\"label\"] = tsne_result[\"label\"].astype(str) "
      ]
    },
    {
      "cell_type": "markdown",
      "metadata": {
        "id": "lBKeMbiVesAJ"
      },
      "source": [
        "We can use the Python [Seaborn](https://seaborn.pydata.org/) library to plot the t-SNE result:"
      ]
    },
    {
      "cell_type": "code",
      "execution_count": 49,
      "metadata": {
        "id": "PDvAxjt0esAK",
        "outputId": "34ad4803-6fc0-4b6c-b3ed-13e78cade000",
        "colab": {
          "base_uri": "https://localhost:8080/",
          "height": 302
        }
      },
      "outputs": [
        {
          "output_type": "execute_result",
          "data": {
            "text/plain": [
              "<matplotlib.axes._subplots.AxesSubplot at 0x7f26d172cd00>"
            ]
          },
          "metadata": {},
          "execution_count": 49
        },
        {
          "output_type": "display_data",
          "data": {
            "text/plain": [
              "<Figure size 432x288 with 1 Axes>"
            ],
            "image/png": "[encoded data removed]"
          },
          "metadata": {
            "needs_background": "light"
          }
        }
      ],
      "source": [
        "import matplotlib.pyplot as plt\n",
        "import seaborn as sns\n",
        "\n",
        "sns.scatterplot(x=\"t-SNE_1\",y=\"t-SNE_2\",hue=\"label\",data=tsne_result)"
      ]
    },
    {
      "cell_type": "markdown",
      "metadata": {
        "id": "uCK_7rcpesAL"
      },
      "source": [
        "Apply K-means clustering to `X_embedded` and again create a Pandas DataFrame `label_compare` with columns `label_true` that contains the true labels and `label_mode` that contains the K-means predicted labels:"
      ]
    },
    {
      "cell_type": "code",
      "execution_count": 53,
      "metadata": {
        "id": "5QHZv1i_esAM",
        "outputId": "8fddbd30-31d7-44d9-cb32-f7a8a9d24559",
        "colab": {
          "base_uri": "https://localhost:8080/"
        }
      },
      "outputs": [
        {
          "output_type": "stream",
          "name": "stdout",
          "text": [
            "      label_cluster  label_true  label_mode\n",
            "0                 3           0           0\n",
            "1                 6           1           1\n",
            "2                 1           2           8\n",
            "3                 8           3           3\n",
            "4                 9           4           4\n",
            "...             ...         ...         ...\n",
            "1792              8           9           3\n",
            "1793              3           0           0\n",
            "1794              1           8           8\n",
            "1795              8           9           3\n",
            "1796              1           8           8\n",
            "\n",
            "[1797 rows x 3 columns]\n"
          ]
        }
      ],
      "source": [
        "#Start code here\n",
        "\n",
        "kmeans_result = cls_kmns.fit_predict(X_embedded) #this is the data on which dimensionality reduction was performed, has only two features\n",
        "\n",
        "label_compare = pd.DataFrame({'label_cluster':kmeans_result, 'label_true': y})\n",
        "\n",
        "\n",
        "label_mapper = []\n",
        "for label_cluster in range(0,10):\n",
        "  df = label_compare.loc[label_compare.label_cluster == label_cluster]\n",
        "  modulus = df.label_true.mode()[0]\n",
        "  label_mapper.append(modulus)\n",
        "\n",
        "\n",
        "label_compare[\"label_mode\"] = label_compare.label_cluster.map(lambda p: label_mapper[p])\n",
        "\n",
        " \n",
        "#End code here\n",
        "\n",
        "print(label_compare)"
      ]
    },
    {
      "cell_type": "markdown",
      "metadata": {
        "id": "rOeBf4-WesAO"
      },
      "source": [
        "What is the accuracy of the K-means label predictions now? "
      ]
    },
    {
      "cell_type": "code",
      "execution_count": 51,
      "metadata": {
        "id": "hVpw3cJCesAO",
        "outputId": "028fda6d-b1af-4c90-af17-531218f3b3c8",
        "colab": {
          "base_uri": "https://localhost:8080/"
        }
      },
      "outputs": [
        {
          "output_type": "stream",
          "name": "stdout",
          "text": [
            "0.7885364496382861\n"
          ]
        }
      ],
      "source": [
        "#Start code here\n",
        "accuracy_score(label_compare.label_true, label_compare.label_mode) #true values vs predicted values\n",
        "#End code here"
      ]
    }
  ],
  "metadata": {
    "kernelspec": {
      "display_name": "Python 3 (ipykernel)",
      "language": "python",
      "name": "python3"
    },
    "language_info": {
      "codemirror_mode": {
        "name": "ipython",
        "version": 3
      },
      "file_extension": ".py",
      "mimetype": "text/x-python",
      "name": "python",
      "nbconvert_exporter": "python",
      "pygments_lexer": "ipython3",
      "version": "3.9.13"
    },
    "colab": {
      "provenance": [],
      "include_colab_link": true
    }
  },
  "nbformat": 4,
  "nbformat_minor": 0
}